{
 "cells": [
  {
   "cell_type": "code",
   "execution_count": 2,
   "metadata": {},
   "outputs": [
    {
     "name": "stderr",
     "output_type": "stream",
     "text": [
      "[nltk_data] Downloading package brown to\n",
      "[nltk_data]     /Users/emmamclean/nltk_data...\n",
      "[nltk_data]   Package brown is already up-to-date!\n"
     ]
    }
   ],
   "source": [
    "from nltk.translate.bleu_score import sentence_bleu\n",
    "import smart_open\n",
    "smart_open.open = smart_open.smart_open\n",
    "from gensim.models import Word2Vec\n",
    "from gensim.test.utils import common_texts\n",
    "from sklearn.metrics.pairwise import cosine_similarity\n",
    "import numpy as np\n",
    "import nltk\n",
    "from nltk.corpus import brown\n",
    "\n",
    "nltk.download('brown')\n",
    "sentences = brown.sents()\n",
    "model = Word2Vec(sentences, size=100, window=5, min_count=1, workers=4)\n",
    "vectors = model.wv"
   ]
  },
  {
   "cell_type": "code",
   "execution_count": 3,
   "metadata": {},
   "outputs": [],
   "source": [
    "def get_similarity_score(original, paraphrase, vectors, vector_size):\n",
    "    original_feature = np.zeros((vector_size,))\n",
    "    paraphrase_feature = np.zeros((vector_size,))\n",
    "    original_list = original.split()\n",
    "    paraphrase_list = paraphrase.split()\n",
    "    original_len = 0\n",
    "    paraphrase_len = 0\n",
    "    for i in range(len(original_list)):\n",
    "        if(original_list[i] in vectors):\n",
    "            original_feature = np.add(original_feature, model.wv[original_list[i]])\n",
    "            original_len += 1\n",
    "    for i in range(len(paraphrase_list)):\n",
    "        if(paraphrase_list[i] in vectors):\n",
    "            paraphrase_feature = np.add(paraphrase_feature, model.wv[paraphrase_list[i]])\n",
    "            paraphrase_len += 1\n",
    "    if(original_len > 1):\n",
    "        original_feature = np.divide(original_feature, original_len)\n",
    "    if(paraphrase_len > 1):\n",
    "        paraphrase_feature = np.divide(paraphrase_feature, paraphrase_len)\n",
    "\n",
    "    return cosine_similarity(original_feature.reshape(1, -1),paraphrase_feature.reshape(1, -1))"
   ]
  },
  {
   "cell_type": "code",
   "execution_count": 4,
   "metadata": {},
   "outputs": [],
   "source": [
    "def get_bleu_score(original, paraphrase):\n",
    "    original_list = original.split()\n",
    "    paraphrase_list = paraphrase.split()\n",
    "    return sentence_bleu([original], paraphrase)"
   ]
  },
  {
   "cell_type": "code",
   "execution_count": 5,
   "metadata": {},
   "outputs": [
    {
     "name": "stdout",
     "output_type": "stream",
     "text": [
      "[[0.94444245]]\n",
      "0.5454838213876383\n"
     ]
    }
   ],
   "source": [
    "print(get_similarity_score(\"the man went home\", \"the man went to his house\",vectors,100))\n",
    "print(get_bleu_score(\"the man went home\", \"the man went to his house\"))"
   ]
  },
  {
   "cell_type": "code",
   "execution_count": null,
   "metadata": {},
   "outputs": [],
   "source": []
  }
 ],
 "metadata": {
  "kernelspec": {
   "display_name": "Python 3",
   "language": "python",
   "name": "python3"
  },
  "language_info": {
   "codemirror_mode": {
    "name": "ipython",
    "version": 3
   },
   "file_extension": ".py",
   "mimetype": "text/x-python",
   "name": "python",
   "nbconvert_exporter": "python",
   "pygments_lexer": "ipython3",
   "version": "3.7.7"
  }
 },
 "nbformat": 4,
 "nbformat_minor": 4
}
