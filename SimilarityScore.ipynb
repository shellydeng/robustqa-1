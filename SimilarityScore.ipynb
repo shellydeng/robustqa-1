{
 "cells": [
  {
   "cell_type": "code",
   "execution_count": 35,
   "metadata": {},
   "outputs": [
    {
     "name": "stderr",
     "output_type": "stream",
     "text": [
      "[nltk_data] Downloading package brown to\n",
      "[nltk_data]     /Users/emmamclean/nltk_data...\n",
      "[nltk_data]   Unzipping corpora/brown.zip.\n"
     ]
    }
   ],
   "source": [
    "import smart_open\n",
    "smart_open.open = smart_open.smart_open\n",
    "from gensim.models import Word2Vec\n",
    "from gensim.test.utils import common_texts\n",
    "from sklearn.metrics.pairwise import cosine_similarity\n",
    "import numpy as np\n",
    "import nltk\n",
    "from nltk.corpus import brown  \n",
    "\n",
    "nltk.download('brown')\n",
    "sentences = brown.sents()\n",
    "model = Word2Vec(sentences, size=100, window=5, min_count=1, workers=4)\n",
    "vectors = model.wv\n",
    "#model.save(\"word2vec.model\")\n",
    "#model = Word2Vec.load(\"word2vec.model\")\n",
    "#vector = model.wv['computer']\n",
    "\n",
    "def get_similarity_score(original, paraphrase, vectors, vector_size):\n",
    "    original_feature = np.zeros((vector_size,))\n",
    "    paraphrase_feature = np.zeros((vector_size,))\n",
    "    original_list = original.split()\n",
    "    paraphrase_list = paraphrase.split()\n",
    "    original_len = 0\n",
    "    paraphrase_len = 0\n",
    "    for i in range(len(original_list)):\n",
    "        if(original_list[i] in vectors):\n",
    "            original_feature = np.add(original_feature, model.wv[original_list[i]])\n",
    "            original_len += 1\n",
    "    for i in range(len(paraphrase_list)):\n",
    "        if(paraphrase_list[i] in vectors):\n",
    "            paraphrase_feature = np.add(paraphrase_feature, model.wv[paraphrase_list[i]])\n",
    "            paraphrase_len += 1\n",
    "    if(original_len > 1):\n",
    "        original_feature = np.divide(original_feature, original_len)\n",
    "    if(paraphrase_len > 1):\n",
    "        paraphrase_feature = np.divide(paraphrase_feature, paraphrase_len)\n",
    "\n",
    "    return cosine_similarity(original_feature.reshape(1, -1),paraphrase_feature.reshape(1, -1))\n",
    "    \n"
   ]
  },
  {
   "cell_type": "code",
   "execution_count": 36,
   "metadata": {},
   "outputs": [
    {
     "name": "stdout",
     "output_type": "stream",
     "text": [
      "4\n",
      "6\n",
      "[[0.94765736]]\n"
     ]
    }
   ],
   "source": [
    "print(get_similarity_score(\"the man went home\", \"the man went to his house\",vectors,100))"
   ]
  },
  {
   "cell_type": "code",
   "execution_count": 37,
   "metadata": {},
   "outputs": [
    {
     "name": "stdout",
     "output_type": "stream",
     "text": [
      "<gensim.models.keyedvectors.Word2VecKeyedVectors object at 0x7f96b8e05f90>\n"
     ]
    }
   ],
   "source": [
    "print(vectors)"
   ]
  },
  {
   "cell_type": "code",
   "execution_count": 38,
   "metadata": {},
   "outputs": [
    {
     "data": {
      "text/plain": [
       "array([-0.7146067 , -0.43709594, -0.11111049, -0.53862613,  0.29038963,\n",
       "        0.11707734,  1.5357468 ,  0.70894843, -0.26584664,  0.85362864,\n",
       "        0.850841  , -0.22238146,  0.4914767 ,  1.0177797 , -0.5822268 ,\n",
       "        0.75838506, -0.7691569 , -0.12066318, -0.12953372,  0.0872457 ,\n",
       "        0.5263523 ,  1.3129779 ,  1.2516764 ,  0.49734733,  0.67296755,\n",
       "        0.35800081, -0.35896632, -0.31353754,  0.1319302 , -0.38381204,\n",
       "        2.0775273 ,  0.03493641,  0.52192   ,  0.72206587,  0.544382  ,\n",
       "       -0.62178916,  0.11086956,  0.18680651, -1.8111594 , -0.21155997,\n",
       "       -1.0899229 ,  0.01349912,  0.37641063,  0.33634588,  0.26332945,\n",
       "        0.10484043, -0.5461024 ,  0.77889866,  0.30170503, -1.1956775 ,\n",
       "       -0.4216742 , -0.49754974, -0.17157337,  0.8254921 ,  0.18826482,\n",
       "       -1.5069356 ,  0.2665311 ,  0.42797133,  0.54393196,  0.41410714,\n",
       "        0.09439007, -1.0857662 , -0.431493  ,  0.25345805,  0.46497867,\n",
       "        0.67037636,  0.20948394, -0.5230749 ,  0.6283402 , -0.9909746 ,\n",
       "        1.2122025 ,  0.616869  , -1.1076947 ,  0.5663419 ,  0.1778768 ,\n",
       "       -0.09325654, -0.304534  , -1.0444132 ,  0.21288113,  0.11568397,\n",
       "       -0.33976385,  0.1661868 ,  0.28568912,  0.64996624, -0.49934402,\n",
       "       -0.45125553, -1.3959973 ,  1.1367395 ,  0.194774  ,  0.14470899,\n",
       "       -0.06052715, -0.43724576, -0.31693447, -0.4625809 ,  0.39720976,\n",
       "        0.33017522,  0.556287  , -0.55815744,  1.4176598 ,  0.90431225],\n",
       "      dtype=float32)"
      ]
     },
     "execution_count": 38,
     "metadata": {},
     "output_type": "execute_result"
    }
   ],
   "source": [
    "vectors[\"world\"]\n"
   ]
  },
  {
   "cell_type": "code",
   "execution_count": null,
   "metadata": {},
   "outputs": [],
   "source": []
  }
 ],
 "metadata": {
  "kernelspec": {
   "display_name": "Python 3",
   "language": "python",
   "name": "python3"
  },
  "language_info": {
   "codemirror_mode": {
    "name": "ipython",
    "version": 3
   },
   "file_extension": ".py",
   "mimetype": "text/x-python",
   "name": "python",
   "nbconvert_exporter": "python",
   "pygments_lexer": "ipython3",
   "version": "3.7.7"
  }
 },
 "nbformat": 4,
 "nbformat_minor": 4
}
